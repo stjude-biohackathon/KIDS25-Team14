{
 "cells": [
  {
   "cell_type": "code",
   "execution_count": 30,
   "id": "eeae9357-0583-4ffc-87b6-1d94e6b482d7",
   "metadata": {},
   "outputs": [],
   "source": [
    "import pandas as pd\n",
    "import re\n",
    "import requests\n",
    "import math\n",
    "import time\n",
    "import os, re"
   ]
  },
  {
   "cell_type": "code",
   "execution_count": 31,
   "id": "2bda852b-85ce-4cbe-beba-03f686b79dfa",
   "metadata": {},
   "outputs": [
    {
     "name": "stdout",
     "output_type": "stream",
     "text": [
      "Total UniProt IDs extracted: 4350\n"
     ]
    }
   ],
   "source": [
    "# Load Excel + Extract UniProt IDs\n",
    "\n",
    "ref_xlsx = \"/home/akandalkar/reference list_all detected proteins.xlsx\"\n",
    "df = pd.read_excel(ref_xlsx, header=1)\n",
    "\n",
    "# Extract UniProt IDs from \"Protein Accession #\" (e.g. sp|Q61738-2|ITA7_MOUSE → Q61738)\n",
    "def extract_uniprot(acc):\n",
    "    if isinstance(acc, str):\n",
    "        match = re.search(r\"\\|([A-Z0-9]+)(?:-\\d+)?\\|\", acc)\n",
    "        if match:\n",
    "            return match.group(1)\n",
    "    return None\n",
    "\n",
    "df[\"UniProt_ID\"] = df[\"Protein Accession #\"].apply(extract_uniprot)\n",
    "\n",
    "# Drop NAs, get unique IDs\n",
    "uniprot_ids = df[\"UniProt_ID\"].dropna().unique().tolist()\n",
    "print(f\"Total UniProt IDs extracted: {len(uniprot_ids)}\")"
   ]
  },
  {
   "cell_type": "code",
   "execution_count": 38,
   "id": "8774f554-b975-450f-8084-f91d46aa10ca",
   "metadata": {},
   "outputs": [
    {
     "name": "stdout",
     "output_type": "stream",
     "text": [
      "Available UniProt IDs from folder: 21615\n"
     ]
    }
   ],
   "source": [
    "saranya_folder = \"/home/akandalkar/af_mouse_latest\"\n",
    "\n",
    "available_uniprot_ids = set()\n",
    "for root, _, files in os.walk(saranya_folder):\n",
    "    for file in files:\n",
    "        if file.lower().endswith((\".pdb.gz\", \".cif.gz\")):\n",
    "            match = re.search(r\"AF-([A-Z0-9]+)\", file)\n",
    "            if match:\n",
    "                available_uniprot_ids.add(match.group(1))\n",
    "\n",
    "print(\"Available UniProt IDs from folder:\", len(available_uniprot_ids))\n"
   ]
  },
  {
   "cell_type": "code",
   "execution_count": 39,
   "id": "2a79e956-60bf-4945-a417-805808bf2284",
   "metadata": {},
   "outputs": [
    {
     "name": "stdout",
     "output_type": "stream",
     "text": [
      "Overlap between Excel UniProt IDs and Saranya’s files: 3923\n"
     ]
    }
   ],
   "source": [
    "# From your Excel dataframe\n",
    "df_uniprot_ids = set(df[\"UniProt_ID\"].dropna())\n",
    "\n",
    "filtered_ids = sorted(df_uniprot_ids.intersection(available_uniprot_ids))\n",
    "print(\"Overlap between Excel UniProt IDs and Saranya’s files:\", len(filtered_ids))\n"
   ]
  },
  {
   "cell_type": "code",
   "execution_count": 40,
   "id": "7a6ac468-414e-479a-8fa5-fb4bff5fa10d",
   "metadata": {},
   "outputs": [
    {
     "name": "stdout",
     "output_type": "stream",
     "text": [
      "Saved filtered UniProt IDs to ref_uniprot_ids_filtered.txt\n"
     ]
    }
   ],
   "source": [
    "with open(\"ref_uniprot_ids_filtered.txt\", \"w\") as f:\n",
    "    for uid in filtered_ids:\n",
    "        f.write(uid + \"\\n\")\n",
    "\n",
    "print(\"Saved filtered UniProt IDs to ref_uniprot_ids_filtered.txt\")"
   ]
  },
  {
   "cell_type": "code",
   "execution_count": 41,
   "id": "c7bf934a-1a3a-42b9-a0df-d1bf57e8e8a6",
   "metadata": {},
   "outputs": [
    {
     "data": {
      "text/html": [
       "<div>\n",
       "<style scoped>\n",
       "    .dataframe tbody tr th:only-of-type {\n",
       "        vertical-align: middle;\n",
       "    }\n",
       "\n",
       "    .dataframe tbody tr th {\n",
       "        vertical-align: top;\n",
       "    }\n",
       "\n",
       "    .dataframe thead th {\n",
       "        text-align: right;\n",
       "    }\n",
       "</style>\n",
       "<table border=\"1\" class=\"dataframe\">\n",
       "  <thead>\n",
       "    <tr style=\"text-align: right;\">\n",
       "      <th></th>\n",
       "      <th>Protein Group#</th>\n",
       "      <th>Protein Accession #</th>\n",
       "      <th>Protein Description</th>\n",
       "      <th>GN</th>\n",
       "      <th>UniProt_ID</th>\n",
       "      <th>PDB_IDs</th>\n",
       "    </tr>\n",
       "  </thead>\n",
       "  <tbody>\n",
       "    <tr>\n",
       "      <th>0</th>\n",
       "      <td>SJPG102208.001</td>\n",
       "      <td>sp|A2A432|CUL4B_MOUSE</td>\n",
       "      <td>Cullin-4B OS=Mus musculus GN=Cul4b PE=1 SV=1</td>\n",
       "      <td>Cul4b</td>\n",
       "      <td>A2A432</td>\n",
       "      <td>[]</td>\n",
       "    </tr>\n",
       "    <tr>\n",
       "      <th>1</th>\n",
       "      <td>SJPG104379.001</td>\n",
       "      <td>sp|A2A5R2|BIG2_MOUSE</td>\n",
       "      <td>Brefeldin A-inhibited guanine nucleotide-excha...</td>\n",
       "      <td>Arfgef2</td>\n",
       "      <td>A2A5R2</td>\n",
       "      <td>[]</td>\n",
       "    </tr>\n",
       "    <tr>\n",
       "      <th>2</th>\n",
       "      <td>SJPG106459.001</td>\n",
       "      <td>sp|A2A791|ZMYM4_MOUSE</td>\n",
       "      <td>Zinc finger MYM-type protein 4 OS=Mus musculus...</td>\n",
       "      <td>Zmym4</td>\n",
       "      <td>A2A791</td>\n",
       "      <td>[]</td>\n",
       "    </tr>\n",
       "    <tr>\n",
       "      <th>3</th>\n",
       "      <td>SJPG111204.002</td>\n",
       "      <td>sp|A2A863-2|ITB4_MOUSE</td>\n",
       "      <td>Isoform 2 of Integrin beta-4 OS=Mus musculus G...</td>\n",
       "      <td>Itgb4</td>\n",
       "      <td>A2A863</td>\n",
       "      <td>[]</td>\n",
       "    </tr>\n",
       "    <tr>\n",
       "      <th>4</th>\n",
       "      <td>SJPG111204.001</td>\n",
       "      <td>sp|A2A863|ITB4_MOUSE</td>\n",
       "      <td>Integrin beta-4 OS=Mus musculus GN=Itgb4 PE=2 ...</td>\n",
       "      <td>Itgb4</td>\n",
       "      <td>A2A863</td>\n",
       "      <td>[]</td>\n",
       "    </tr>\n",
       "  </tbody>\n",
       "</table>\n",
       "</div>"
      ],
      "text/plain": [
       "   Protein Group#     Protein Accession #  \\\n",
       "0  SJPG102208.001   sp|A2A432|CUL4B_MOUSE   \n",
       "1  SJPG104379.001    sp|A2A5R2|BIG2_MOUSE   \n",
       "2  SJPG106459.001   sp|A2A791|ZMYM4_MOUSE   \n",
       "3  SJPG111204.002  sp|A2A863-2|ITB4_MOUSE   \n",
       "4  SJPG111204.001    sp|A2A863|ITB4_MOUSE   \n",
       "\n",
       "                                 Protein Description       GN UniProt_ID  \\\n",
       "0       Cullin-4B OS=Mus musculus GN=Cul4b PE=1 SV=1    Cul4b     A2A432   \n",
       "1  Brefeldin A-inhibited guanine nucleotide-excha...  Arfgef2     A2A5R2   \n",
       "2  Zinc finger MYM-type protein 4 OS=Mus musculus...    Zmym4     A2A791   \n",
       "3  Isoform 2 of Integrin beta-4 OS=Mus musculus G...    Itgb4     A2A863   \n",
       "4  Integrin beta-4 OS=Mus musculus GN=Itgb4 PE=2 ...    Itgb4     A2A863   \n",
       "\n",
       "  PDB_IDs  \n",
       "0      []  \n",
       "1      []  \n",
       "2      []  \n",
       "3      []  \n",
       "4      []  "
      ]
     },
     "execution_count": 41,
     "metadata": {},
     "output_type": "execute_result"
    }
   ],
   "source": [
    "df.head()"
   ]
  },
  {
   "cell_type": "code",
   "execution_count": 61,
   "id": "6296550e-d577-4092-a5b4-cfbfeb9e46a2",
   "metadata": {},
   "outputs": [
    {
     "name": "stdout",
     "output_type": "stream",
     "text": [
      "Number of files: 43231\n"
     ]
    }
   ],
   "source": [
    "folder = \"/home/akandalkar/af_mouse_latest\"\n",
    "\n",
    "# Count only files (ignores subdirectories)\n",
    "num_files = len([f for f in os.listdir(folder) if os.path.isfile(os.path.join(folder, f))])\n",
    "print(\"Number of files:\", num_files)"
   ]
  },
  {
   "cell_type": "markdown",
   "id": "4b787d2e-831c-4c7d-b085-d7dcb9f79db2",
   "metadata": {},
   "source": [
    "# KR Addition. This will move the matched files over to a new directory in lead team folder"
   ]
  },
  {
   "cell_type": "code",
   "execution_count": 67,
   "id": "fd9641b4-7f32-4b17-8606-9a3c9d28d39b",
   "metadata": {},
   "outputs": [],
   "source": [
    "# Import required libraries\n",
    "import os\n",
    "import shutil\n",
    "import glob"
   ]
  },
  {
   "cell_type": "code",
   "execution_count": 68,
   "id": "22be6f2e-a124-4284-b46d-83cd3fbcec96",
   "metadata": {},
   "outputs": [],
   "source": [
    "# Configure your paths here\n",
    "PDB_DIR = \"/home/akandalkar/af_mouse_latest\"  # Directory containing your PDB files\n",
    "UNIPROT_FILE = \"ref_uniprot_ids_filtered.txt\"  # Your text file with UniProt IDs\n",
    "OUTPUT_DIR = \"ref_pdb_files\"  # Output directory for matched files\n",
    "\n",
    "# Create output directory if it doesn't exist\n",
    "os.makedirs(OUTPUT_DIR, exist_ok=True)"
   ]
  },
  {
   "cell_type": "code",
   "execution_count": 69,
   "id": "924c4145-75dd-4a24-b59f-16f07b0132df",
   "metadata": {},
   "outputs": [
    {
     "name": "stdout",
     "output_type": "stream",
     "text": [
      "Found 3923 UniProt IDs to search for\n",
      "\n"
     ]
    }
   ],
   "source": [
    "# Create output directory if it doesn't exist\n",
    "os.makedirs(OUTPUT_DIR, exist_ok=True)\n",
    "\n",
    "# Read UniProt IDs from file\n",
    "with open(UNIPROT_FILE, 'r') as f:\n",
    "    uniprot_ids = [line.strip() for line in f if line.strip()]\n",
    "\n",
    "print(f\"Found {len(uniprot_ids)} UniProt IDs to search for\\n\")"
   ]
  },
  {
   "cell_type": "code",
   "execution_count": null,
   "id": "24d281d2-021d-4de8-8517-000e1748a492",
   "metadata": {},
   "outputs": [],
   "source": [
    "# Counter for matches\n",
    "matched_files = 0\n",
    "not_found = []\n",
    "\n",
    "# Search for each UniProt ID\n",
    "for uniprot_id in uniprot_ids:\n",
    "    # Create search pattern: *[uniprot_id]*.pdb\n",
    "    os.system(f\"cp {PDB_DIR}/*{uniprot_id}* ref_pdb_files\")"
   ]
  },
  {
   "cell_type": "code",
   "execution_count": 75,
   "id": "e0d2fe9b-d5d0-4e23-bdaf-9f2d177b2565",
   "metadata": {},
   "outputs": [
    {
     "data": {
      "text/plain": [
       "0"
      ]
     },
     "execution_count": 75,
     "metadata": {},
     "output_type": "execute_result"
    }
   ],
   "source": [
    "#Remove the *cif.gz files and unzip all *pdb.gz files\n",
    "os.system(f\"rm ref_pdb_files/*cif.gz\")\n",
    "os.system(f\"gunzip ref_pdb_files/*pdb.gz\")"
   ]
  },
  {
   "cell_type": "code",
   "execution_count": 76,
   "id": "0e9fa5aa-6384-4919-9ab7-d259c9445493",
   "metadata": {},
   "outputs": [
    {
     "name": "stdout",
     "output_type": "stream",
     "text": [
      "\n",
      "============================================================\n",
      "Summary:\n",
      "Total UniProt IDs searched: 3923\n"
     ]
    }
   ],
   "source": [
    "# Summary\n",
    "print(f\"\\n{'='*60}\")\n",
    "print(f\"Summary:\")\n",
    "print(f\"Total UniProt IDs searched: {len(uniprot_ids)}\")"
   ]
  },
  {
   "cell_type": "code",
   "execution_count": null,
   "id": "b65ec6b6-2092-4d81-b7da-de1c6da2e039",
   "metadata": {},
   "outputs": [],
   "source": [
    "# Make another sub folder with only the ones from up&down"
   ]
  },
  {
   "cell_type": "code",
   "execution_count": null,
   "id": "07ce1dc7-0f24-4014-819b-da1d32c8cb50",
   "metadata": {},
   "outputs": [],
   "source": [
    "import pandas as pd\n",
    "import re"
   ]
  },
  {
   "cell_type": "code",
   "execution_count": 77,
   "id": "696412f4-62d6-495e-a74b-e41395f3a20e",
   "metadata": {},
   "outputs": [],
   "source": [
    "# Configure your paths\n",
    "EXCEL_FILE = \"/home/akandalkar/Demontis example_Up & down proteins for proteome enrichment.xlsx\"  # Path to your Excel file\n",
    "OUTPUT_FILE_SHEET1 = \"sol_up_ids.txt\"  # Output for first sheet\n",
    "OUTPUT_FILE_SHEET2 = \"sol_down_ids.txt\"  # Output for second sheet"
   ]
  },
  {
   "cell_type": "code",
   "execution_count": 78,
   "id": "f2fcce42-393f-40e9-a50d-dc9ae455ad42",
   "metadata": {},
   "outputs": [],
   "source": [
    "def extract_uniprot_id(text):\n",
    "    \"\"\"\n",
    "    Extract UniProt ID from format like 'Apoa2_sp|P09813|APOA2_MOUSE'\n",
    "    Returns the middle part (P09813)\n",
    "    \"\"\"\n",
    "    if pd.isna(text):\n",
    "        return None\n",
    "    \n",
    "    text = str(text)\n",
    "    # Match pattern: something|UNIPROT_ID|something\n",
    "    match = re.search(r'\\|([A-Z0-9]+)\\|', text)\n",
    "    if match:\n",
    "        return match.group(1)\n",
    "    return None\n",
    "\n",
    "def process_sheet(df, sheet_name):\n",
    "    \"\"\"\n",
    "    Process a sheet to extract and deduplicate UniProt IDs.\n",
    "    Keeps the first occurrence (highest placement) of each ID.\n",
    "    \"\"\"\n",
    "    uniprot_ids = []\n",
    "    seen = set()\n",
    "    \n",
    "    # Search through all columns and rows\n",
    "    for idx, row in df.iterrows():\n",
    "        for col in df.columns:\n",
    "            cell_value = row[col]\n",
    "            uniprot_id = extract_uniprot_id(cell_value)\n",
    "            \n",
    "            if uniprot_id and uniprot_id not in seen:\n",
    "                uniprot_ids.append(uniprot_id)\n",
    "                seen.add(uniprot_id)\n",
    "    \n",
    "    print(f\"{sheet_name}:\")\n",
    "    print(f\"  Total unique UniProt IDs found: {len(uniprot_ids)}\")\n",
    "    \n",
    "    return uniprot_ids"
   ]
  },
  {
   "cell_type": "code",
   "execution_count": 79,
   "id": "b85fbcd4-8596-4f3b-be08-933322e74aaa",
   "metadata": {},
   "outputs": [
    {
     "name": "stdout",
     "output_type": "stream",
     "text": [
      "Found 2 sheets in Excel file\n",
      "Sheet names: ['up', 'down']\n",
      "\n"
     ]
    }
   ],
   "source": [
    "# Read Excel file\n",
    "excel_file = pd.ExcelFile(EXCEL_FILE)\n",
    "sheet_names = excel_file.sheet_names\n",
    "\n",
    "print(f\"Found {len(sheet_names)} sheets in Excel file\")\n",
    "print(f\"Sheet names: {sheet_names}\\n\")"
   ]
  },
  {
   "cell_type": "code",
   "execution_count": 80,
   "id": "731f3990-43e9-4ad7-954f-0f86d8f8c6d2",
   "metadata": {},
   "outputs": [
    {
     "name": "stdout",
     "output_type": "stream",
     "text": [
      "up:\n",
      "  Total unique UniProt IDs found: 274\n",
      "  Saved to: sol_up_ids.txt\n",
      "\n",
      "down:\n",
      "  Total unique UniProt IDs found: 227\n",
      "  Saved to: sol_down_ids.txt\n",
      "\n",
      "============================================================\n",
      "Complete!\n",
      "Sheet 1 (up): 274 unique IDs\n",
      "Sheet 2 (down): 227 unique IDs\n"
     ]
    }
   ],
   "source": [
    "# Process first sheet\n",
    "df_sheet1 = pd.read_excel(EXCEL_FILE, sheet_name=sheet_names[0])\n",
    "uniprot_ids_sheet1 = process_sheet(df_sheet1, sheet_names[0])\n",
    "\n",
    "# Save to text file\n",
    "with open(OUTPUT_FILE_SHEET1, 'w') as f:\n",
    "    for uid in uniprot_ids_sheet1:\n",
    "        f.write(f\"{uid}\\n\")\n",
    "print(f\"  Saved to: {OUTPUT_FILE_SHEET1}\\n\")\n",
    "\n",
    "# Process second sheet\n",
    "df_sheet2 = pd.read_excel(EXCEL_FILE, sheet_name=sheet_names[1])\n",
    "uniprot_ids_sheet2 = process_sheet(df_sheet2, sheet_names[1])\n",
    "\n",
    "# Save to text file\n",
    "with open(OUTPUT_FILE_SHEET2, 'w') as f:\n",
    "    for uid in uniprot_ids_sheet2:\n",
    "        f.write(f\"{uid}\\n\")\n",
    "print(f\"  Saved to: {OUTPUT_FILE_SHEET2}\\n\")\n",
    "\n",
    "print(\"=\"*60)\n",
    "print(\"Complete!\")\n",
    "print(f\"Sheet 1 ({sheet_names[0]}): {len(uniprot_ids_sheet1)} unique IDs\")\n",
    "print(f\"Sheet 2 ({sheet_names[1]}): {len(uniprot_ids_sheet2)} unique IDs\")"
   ]
  },
  {
   "cell_type": "markdown",
   "id": "a22abf44-dfd3-4514-87e6-0a5180f53e7e",
   "metadata": {},
   "source": [
    "# we will now make seperate folders for the sol up and down proteins to evaluate using folddisco"
   ]
  },
  {
   "cell_type": "code",
   "execution_count": 81,
   "id": "880518d8-d2a6-4d6e-9953-960850b80e2c",
   "metadata": {},
   "outputs": [],
   "source": [
    "# Import required libraries\n",
    "import os\n",
    "import shutil\n",
    "import glob"
   ]
  },
  {
   "cell_type": "code",
   "execution_count": 82,
   "id": "ba568b7b-8fde-4847-b10f-58c0a39f73c9",
   "metadata": {},
   "outputs": [],
   "source": [
    "# Configure your paths here\n",
    "PDB_DIR = \"/home/akandalkar/af_mouse_latest\"  # Directory containing your PDB files\n",
    "UNIPROT_FILE_up = \"sol_up_ids.txt\"  # Your text file with UniProt IDs\n",
    "UNIPROT_FILE_down = \"sol_down_ids.txt\"  # Your text file with UniProt IDs\n",
    "OUTPUT_DIR_up = \"sol_up_pdb_files\"  # Output directory for matched files\n",
    "OUTPUT_DIR_down = \"sol_down_pdb_files\"  # Output directory for matched files\n",
    "\n",
    "# Create output directory if it doesn't exist\n",
    "os.makedirs(OUTPUT_DIR_up, exist_ok=True)\n",
    "os.makedirs(OUTPUT_DIR_down, exist_ok=True)"
   ]
  },
  {
   "cell_type": "code",
   "execution_count": 83,
   "id": "3549d3fe-f4b4-4ec0-9464-023b360b5c5c",
   "metadata": {},
   "outputs": [
    {
     "name": "stdout",
     "output_type": "stream",
     "text": [
      "Found 274 UniProt IDs to search for\n",
      "\n"
     ]
    }
   ],
   "source": [
    "# Read UniProt IDs from file\n",
    "with open(UNIPROT_FILE_up, 'r') as f:\n",
    "    uniprot_ids_up = [line.strip() for line in f if line.strip()]\n",
    "\n",
    "print(f\"Found {len(uniprot_ids_up)} UniProt IDs to search for\\n\")"
   ]
  },
  {
   "cell_type": "code",
   "execution_count": 84,
   "id": "1f904108-8895-446e-a400-c684ebbc90c6",
   "metadata": {},
   "outputs": [
    {
     "name": "stdout",
     "output_type": "stream",
     "text": [
      "Found 227 UniProt IDs to search for\n",
      "\n"
     ]
    }
   ],
   "source": [
    "# Read UniProt IDs from file\n",
    "with open(UNIPROT_FILE_down, 'r') as f:\n",
    "    uniprot_ids_down = [line.strip() for line in f if line.strip()]\n",
    "\n",
    "print(f\"Found {len(uniprot_ids_down)} UniProt IDs to search for\\n\")"
   ]
  },
  {
   "cell_type": "code",
   "execution_count": 85,
   "id": "9f1ef0e1-c984-4e40-85dc-72f3f333ecf8",
   "metadata": {},
   "outputs": [
    {
     "name": "stderr",
     "output_type": "stream",
     "text": [
      "cp: cannot stat '/home/akandalkar/af_mouse_latest/*Q91VB8*': No such file or directory\n",
      "cp: cannot stat '/home/akandalkar/af_mouse_latest/*P63300*': No such file or directory\n",
      "cp: cannot stat '/home/akandalkar/af_mouse_latest/*Q61001*': No such file or directory\n",
      "cp: cannot stat '/home/akandalkar/af_mouse_latest/*A2ACG7*': No such file or directory\n",
      "cp: cannot stat '/home/akandalkar/af_mouse_latest/*D3YV81*': No such file or directory\n",
      "cp: cannot stat '/home/akandalkar/af_mouse_latest/*F6UV57*': No such file or directory\n",
      "cp: cannot stat '/home/akandalkar/af_mouse_latest/*B7ZC71*': No such file or directory\n",
      "cp: cannot stat '/home/akandalkar/af_mouse_latest/*F7BC60*': No such file or directory\n",
      "cp: cannot stat '/home/akandalkar/af_mouse_latest/*F8WIV2*': No such file or directory\n",
      "cp: cannot stat '/home/akandalkar/af_mouse_latest/*F7A856*': No such file or directory\n",
      "cp: cannot stat '/home/akandalkar/af_mouse_latest/*E9PWE8*': No such file or directory\n",
      "cp: cannot stat '/home/akandalkar/af_mouse_latest/*Q99MD6*': No such file or directory\n",
      "cp: cannot stat '/home/akandalkar/af_mouse_latest/*A2A8E2*': No such file or directory\n",
      "cp: cannot stat '/home/akandalkar/af_mouse_latest/*A2CEK3*': No such file or directory\n",
      "cp: cannot stat '/home/akandalkar/af_mouse_latest/*E9PVC5*': No such file or directory\n"
     ]
    }
   ],
   "source": [
    "# copy UP prots over missing 15 prot structures\n",
    "# Counter for matches\n",
    "matched_files = 0\n",
    "not_found = []\n",
    "\n",
    "# Search for each UniProt ID\n",
    "for uniprot_id in uniprot_ids_up:\n",
    "    # Create search pattern: *[uniprot_id]*.pdb\n",
    "    os.system(f\"cp {PDB_DIR}/*{uniprot_id}* {OUTPUT_DIR_up}\")"
   ]
  },
  {
   "cell_type": "code",
   "execution_count": 86,
   "id": "ac0585c7-9882-497e-9e62-13c023b04975",
   "metadata": {},
   "outputs": [
    {
     "data": {
      "text/plain": [
       "0"
      ]
     },
     "execution_count": 86,
     "metadata": {},
     "output_type": "execute_result"
    }
   ],
   "source": [
    "#Remove the *cif.gz files and unzip all *pdb.gz files\n",
    "os.system(f\"rm {OUTPUT_DIR_up}/*cif.gz\")\n",
    "os.system(f\"gunzip {OUTPUT_DIR_up}/*pdb.gz\")"
   ]
  },
  {
   "cell_type": "code",
   "execution_count": 87,
   "id": "70139999-a61b-4096-86f4-5e9e649120f2",
   "metadata": {},
   "outputs": [
    {
     "name": "stderr",
     "output_type": "stream",
     "text": [
      "cp: cannot stat '/home/akandalkar/af_mouse_latest/*Q5SWZ5*': No such file or directory\n",
      "cp: cannot stat '/home/akandalkar/af_mouse_latest/*E9QQ93*': No such file or directory\n",
      "cp: cannot stat '/home/akandalkar/af_mouse_latest/*A2A4P4*': No such file or directory\n",
      "cp: cannot stat '/home/akandalkar/af_mouse_latest/*V9GXW5*': No such file or directory\n",
      "cp: cannot stat '/home/akandalkar/af_mouse_latest/*P01899*': No such file or directory\n",
      "cp: cannot stat '/home/akandalkar/af_mouse_latest/*Q8BKX6*': No such file or directory\n",
      "cp: cannot stat '/home/akandalkar/af_mouse_latest/*Q3UE92*': No such file or directory\n",
      "cp: cannot stat '/home/akandalkar/af_mouse_latest/*E9PUR2*': No such file or directory\n",
      "cp: cannot stat '/home/akandalkar/af_mouse_latest/*P01900*': No such file or directory\n",
      "cp: cannot stat '/home/akandalkar/af_mouse_latest/*F6Z1R4*': No such file or directory\n",
      "cp: cannot stat '/home/akandalkar/af_mouse_latest/*F6ZGN3*': No such file or directory\n",
      "cp: cannot stat '/home/akandalkar/af_mouse_latest/*Q5SVJ0*': No such file or directory\n",
      "cp: cannot stat '/home/akandalkar/af_mouse_latest/*P01895*': No such file or directory\n",
      "cp: cannot stat '/home/akandalkar/af_mouse_latest/*M0QWF0*': No such file or directory\n",
      "cp: cannot stat '/home/akandalkar/af_mouse_latest/*D3Z2X2*': No such file or directory\n",
      "cp: cannot stat '/home/akandalkar/af_mouse_latest/*Q8BG13*': No such file or directory\n",
      "cp: cannot stat '/home/akandalkar/af_mouse_latest/*Q61029*': No such file or directory\n",
      "cp: cannot stat '/home/akandalkar/af_mouse_latest/*F6UV57*': No such file or directory\n",
      "cp: cannot stat '/home/akandalkar/af_mouse_latest/*D3YV81*': No such file or directory\n",
      "cp: cannot stat '/home/akandalkar/af_mouse_latest/*Q9Z329*': No such file or directory\n",
      "cp: cannot stat '/home/akandalkar/af_mouse_latest/*E9Q503*': No such file or directory\n",
      "cp: cannot stat '/home/akandalkar/af_mouse_latest/*P11881*': No such file or directory\n",
      "cp: cannot stat '/home/akandalkar/af_mouse_latest/*F8WID5*': No such file or directory\n",
      "cp: cannot stat '/home/akandalkar/af_mouse_latest/*F6ST32*': No such file or directory\n",
      "cp: cannot stat '/home/akandalkar/af_mouse_latest/*F7A856*': No such file or directory\n",
      "cp: cannot stat '/home/akandalkar/af_mouse_latest/*A0A075B5P3*': No such file or directory\n",
      "cp: cannot stat '/home/akandalkar/af_mouse_latest/*A0A087WNJ9*': No such file or directory\n",
      "cp: cannot stat '/home/akandalkar/af_mouse_latest/*E9Q6Z3*': No such file or directory\n",
      "cp: cannot stat '/home/akandalkar/af_mouse_latest/*A2A5V2*': No such file or directory\n",
      "cp: cannot stat '/home/akandalkar/af_mouse_latest/*A2AJK6*': No such file or directory\n",
      "cp: cannot stat '/home/akandalkar/af_mouse_latest/*A2AQ43*': No such file or directory\n",
      "cp: cannot stat '/home/akandalkar/af_mouse_latest/*A0A087WNK1*': No such file or directory\n",
      "cp: cannot stat '/home/akandalkar/af_mouse_latest/*E9Q800*': No such file or directory\n",
      "cp: cannot stat '/home/akandalkar/af_mouse_latest/*A0A075B6A3*': No such file or directory\n"
     ]
    }
   ],
   "source": [
    "# copy DOWN prots over missing 35 prot structures\n",
    "# Counter for matches\n",
    "matched_files = 0\n",
    "not_found = []\n",
    "\n",
    "# Search for each UniProt ID\n",
    "for uniprot_id in uniprot_ids_down:\n",
    "    # Create search pattern: *[uniprot_id]*.pdb\n",
    "    os.system(f\"cp {PDB_DIR}/*{uniprot_id}* {OUTPUT_DIR_down}\")"
   ]
  },
  {
   "cell_type": "code",
   "execution_count": 88,
   "id": "79e65f79-12e5-4cbb-9b7d-b4374e5fbd45",
   "metadata": {},
   "outputs": [
    {
     "data": {
      "text/plain": [
       "0"
      ]
     },
     "execution_count": 88,
     "metadata": {},
     "output_type": "execute_result"
    }
   ],
   "source": [
    "#Remove the *cif.gz files and unzip all *pdb.gz files\n",
    "os.system(f\"rm {OUTPUT_DIR_down}/*cif.gz\")\n",
    "os.system(f\"gunzip {OUTPUT_DIR_down}/*pdb.gz\")"
   ]
  },
  {
   "cell_type": "code",
   "execution_count": null,
   "id": "5facb54a-d306-45ba-bb67-6c3c53a0e5ab",
   "metadata": {},
   "outputs": [],
   "source": []
  }
 ],
 "metadata": {
  "kernelspec": {
   "display_name": "folddisco-py",
   "language": "python",
   "name": "conda-env-folddisco-py-py"
  },
  "language_info": {
   "codemirror_mode": {
    "name": "ipython",
    "version": 3
   },
   "file_extension": ".py",
   "mimetype": "text/x-python",
   "name": "python",
   "nbconvert_exporter": "python",
   "pygments_lexer": "ipython3",
   "version": "3.13.7"
  }
 },
 "nbformat": 4,
 "nbformat_minor": 5
}
